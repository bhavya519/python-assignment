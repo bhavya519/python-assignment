{
 "cells": [
  {
   "cell_type": "markdown",
   "metadata": {},
   "source": [
    "# Part A"
   ]
  },
  {
   "cell_type": "markdown",
   "metadata": {},
   "source": [
    "# Guessing number game"
   ]
  },
  {
   "cell_type": "code",
   "execution_count": 1,
   "metadata": {},
   "outputs": [
    {
     "name": "stdout",
     "output_type": "stream",
     "text": [
      "guess a number between 1-100.You have only 5 attempts : \n",
      "50\n",
      "ur number is greater than actual number\n",
      "40\n",
      "ur number is greater than actual number\n",
      "30\n",
      "ur number is greater than actual number\n",
      "20\n",
      "ur number is less than actual number\n",
      "35\n",
      "ur number is greater than actual number\n",
      "You lost the game\n",
      "Actual number is :  27\n",
      "Number of guesses you made : 5\n"
     ]
    }
   ],
   "source": [
    "def game():\n",
    "    import random    #importing random class for generating random number\n",
    "    r=random.randint(1,100)    ##storing a random number between 1-100 in a variable r\n",
    "    c=0   # initializing variable c to 0 so that the count will be incremented later\n",
    "    print(\"guess a number between 1-100.You have only 5 attempts : \")     # asking a user to enter a number\n",
    "    while(c<5):     #running a while loop to take a input every time user make a wrong guess\n",
    "        n=int(input())    # taking the input from the user\n",
    "        if(n==r):      #checking the condition if the entered number is equal to the generated random number\n",
    "            c=c+1   #incremeting the count that is guesses made\n",
    "            print(\"Congrats u won the game\")    # if condition satisfies printing winning message\n",
    "            print(\"Number of guesses made : \",end=\"\")  # also printing number of guesses made\n",
    "            break\n",
    "        elif(n<r):   #if entered number less than random number\n",
    "            print(\"ur number is less than actual number\")  # asking user to enter another number\n",
    "            c=c+1   # incrementing the count\n",
    "        elif(n>r):  #if entered number is greater than random number\n",
    "            print(\"ur number is greater than actual number\")  # asking user to enter another number\n",
    "            c=c+1    # incrementing count\n",
    "    if not(c<5):   # if guesses are greater than 5\n",
    "        print(\"You lost the game\")  # printing that the user lost the game\n",
    "        print(\"Actual number is : \",r)  # printing the actual generated random number\n",
    "        print(\"Number of guesses you made : \",end=\"\")   #also the number of guesses made\n",
    "    return c  \n",
    "\n",
    "print(game())"
   ]
  },
  {
   "cell_type": "markdown",
   "metadata": {},
   "source": [
    "# Sum and product of digits of a number"
   ]
  },
  {
   "cell_type": "code",
   "execution_count": 2,
   "metadata": {},
   "outputs": [
    {
     "name": "stdout",
     "output_type": "stream",
     "text": [
      "Enter a number : 378\n",
      "Sum of digits of the number is :  18\n",
      "Product of digits of the number is :  168\n"
     ]
    }
   ],
   "source": [
    "def sumof_digit(n):   # defining a function with name as sumof_digits with 1 argument that is a number\n",
    "    s=0              # initially we declare the sum as 0 so we can increment it later\n",
    "    while(n!=0):     #running a while loop.Everytime if the number is not equal to 0 it enters in to loop\n",
    "        r=n%10       #storing the remainder in a variable r  here 278%10 = 8\n",
    "        s=s+r        #adding the remainder to the variable s. here s=0+8 = 8\n",
    "        n=n//10      # here we extract the quotient. 278//10 = 27 this 27 can be used in next iteration\n",
    "    return s;         #after loop ends the sum will be returned\n",
    "def productof_digit(n):  #defining a function with name as productof_digits with 1 argument that is a number\n",
    "    p=1                #initially we declare a variable called p and store 1 in it. later the product will be multiplied\n",
    "    while(n!=0):     #running a while loop.Everytime if the number is not equal to 0 it enters in to loop\n",
    "        r=n%10      #storing the remainder in a variable r  here 278%10 = 8\n",
    "        p=p*r       # multiplying the remainder with p that is 1 here p=1*8=8\n",
    "        n=n//10     #here we extract the quotient. 278//10 = 27 this 27 can be used in next iteration\n",
    "    return p       #after loop ends the product will be returned \n",
    "n=int(input(\"Enter a number : \"))   # reading a number from the user\n",
    "a,b=sumof_digit(n),productof_digit(n)   #storing the result in a variables\n",
    "print(\"Sum of digits of the number is : \",a)  # printing the sum of digits of a number\n",
    "print(\"Product of digits of the number is : \",b)   #printing the product of digits of a number\n"
   ]
  },
  {
   "cell_type": "markdown",
   "metadata": {},
   "source": [
    "# Part B"
   ]
  },
  {
   "cell_type": "markdown",
   "metadata": {},
   "source": [
    "# Prime numbers"
   ]
  },
  {
   "cell_type": "code",
   "execution_count": 3,
   "metadata": {},
   "outputs": [
    {
     "name": "stdout",
     "output_type": "stream",
     "text": [
      "enter lower limit : 6\n",
      "Enter higher limit : 40\n",
      "[7, 11, 13, 17, 19, 23, 29, 31, 37]\n"
     ]
    }
   ],
   "source": [
    "def primenum(n1,n2):   # defining a function with name primenum having lower limit and upperlimit as arguments\n",
    "    a=[]              # taking a empty list to append the primenumbers later\n",
    "    for i in range(n1,n2+1):   #running a for loop from lower limit to upper limit\n",
    "        c=0                   # initialising c to 0 for every iteration\n",
    "        for j in range(1,i+1):  # running a for loop from 1 to i\n",
    "            if(i%j==0):          #checking the condition if i%j == 0.\n",
    "                c=c+1           #if the condition satisfies incrementing the count. only prime numbers have a and itself as factors\n",
    "        if(c==2):           #checking the condition if count == 2 only prime numbers havecount value as 2\n",
    "            a.append(i)      #if the condition satisfies appending the number to the list\n",
    "    return a               # returning the list\n",
    "n1=int(input(\"enter lower limit : \"))  # reading lower limit from user\n",
    "n2=int(input(\"Enter higher limit : \"))   # reading upper limit from user\n",
    "b=primenum(n1,n2)  # storing in a variable\n",
    "print(b)    # printing the list of prime numbers"
   ]
  },
  {
   "cell_type": "markdown",
   "metadata": {},
   "source": [
    "# Factorial"
   ]
  },
  {
   "cell_type": "code",
   "execution_count": 4,
   "metadata": {},
   "outputs": [
    {
     "name": "stdout",
     "output_type": "stream",
     "text": [
      "Enter a number : 7\n",
      "factorial of entered number is  5040\n"
     ]
    }
   ],
   "source": [
    "def factorial(n):   # defining a function with name factorial with argument as a number\n",
    "    f=1            # initializing f variable to 1\n",
    "    for i in range(n,1,-1):   # running a for loop from n to 1\n",
    "        f=f*i     # multiplying the i value with 1 that is f=1*6  next f=6*5  next f=30*4  next f=120*3  next f=360*2=720\n",
    "    return f   # returning the final factorial of a number\n",
    "n=int(input(\"Enter a number : \"))    # reading the number from user\n",
    "k=factorial(n)   # storing the function in a variable\n",
    "print(\"factorial of entered number is \",k)   # printing the value"
   ]
  },
  {
   "cell_type": "markdown",
   "metadata": {},
   "source": [
    "# Palindrome"
   ]
  },
  {
   "cell_type": "code",
   "execution_count": 7,
   "metadata": {},
   "outputs": [
    {
     "name": "stdout",
     "output_type": "stream",
     "text": [
      "Enter a string : madam\n",
      "The entered string is palindrome\n"
     ]
    }
   ],
   "source": [
    "def palindrome(s):  # defining a function with name called palindrome with an argument as a string\n",
    "    s1=\"\"  #declaring an empty string \n",
    "    for i in range(len(s)-1,-1,-1):\n",
    "        s1=s1+s[i]   #storing the reverse of the string entered in another string called s1\n",
    "    if(s1==s):    # checking the condition if the stored reverse of the string is equal to the original string entered\n",
    "        return \"The entered string is palindrome\"    # printing a message that the entereg string is palindrome if condition satisfies\n",
    "    else:   # if the condition fails printing a message as the entered string is not a palindrome\n",
    "        return \"The entered string is not a palindrome\"  \n",
    "s=input(\"Enter a string : \")    #reading a string from user\n",
    "k=palindrome(s)   #storing the function in avariable k\n",
    "print(k)     #printing the result"
   ]
  },
  {
   "cell_type": "code",
   "execution_count": null,
   "metadata": {},
   "outputs": [],
   "source": []
  },
  {
   "cell_type": "code",
   "execution_count": null,
   "metadata": {},
   "outputs": [],
   "source": []
  }
 ],
 "metadata": {
  "kernelspec": {
   "display_name": "Python 3",
   "language": "python",
   "name": "python3"
  },
  "language_info": {
   "codemirror_mode": {
    "name": "ipython",
    "version": 3
   },
   "file_extension": ".py",
   "mimetype": "text/x-python",
   "name": "python",
   "nbconvert_exporter": "python",
   "pygments_lexer": "ipython3",
   "version": "3.7.6"
  }
 },
 "nbformat": 4,
 "nbformat_minor": 4
}
